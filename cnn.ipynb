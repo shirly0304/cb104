{
 "cells": [
  {
   "cell_type": "code",
   "execution_count": 1,
   "metadata": {},
   "outputs": [
    {
     "name": "stderr",
     "output_type": "stream",
     "text": [
      "Using TensorFlow backend.\n"
     ]
    }
   ],
   "source": [
    "from keras.datasets.cifar10 import load_data\n",
    "(x_train, y_train), (x_test, y_test) = load_data()"
   ]
  },
  {
   "cell_type": "code",
   "execution_count": 2,
   "metadata": {},
   "outputs": [
    {
     "name": "stdout",
     "output_type": "stream",
     "text": [
      "(50000, 32, 32, 3)\n",
      "(10000, 32, 32, 3)\n"
     ]
    }
   ],
   "source": [
    "# 看資料的長相\n",
    "print(x_train.shape)\n",
    "print(x_test.shape)"
   ]
  },
  {
   "cell_type": "code",
   "execution_count": 3,
   "metadata": {},
   "outputs": [],
   "source": [
    "# 顯示資料的標籤\n",
    "labels = [\"飛機\", \"汽車\", \"鳥\", \"貓\", \"鹿\",\n",
    "          \"狗\", \"青蛙\", \"馬\", \"船\", \"卡車\"]"
   ]
  },
  {
   "cell_type": "code",
   "execution_count": 4,
   "metadata": {},
   "outputs": [
    {
     "name": "stdout",
     "output_type": "stream",
     "text": [
      "飛機\n"
     ]
    },
    {
     "data": {
      "text/plain": [
       "<matplotlib.image.AxesImage at 0x185e5024be0>"
      ]
     },
     "execution_count": 4,
     "metadata": {},
     "output_type": "execute_result"
    },
    {
     "data": {
      "image/png": "[encoded data removed]",
      "text/plain": [
       "<Figure size 432x288 with 1 Axes>"
      ]
     },
     "metadata": {
      "needs_background": "light"
     },
     "output_type": "display_data"
    }
   ],
   "source": [
    "import random\n",
    "import matplotlib.pyplot as plt\n",
    "%matplotlib inline\n",
    "c = random.randint(0, 49999)\n",
    "# 為何用labels[0]，因為labels原為list所以為了取出來要用[]才能取出\n",
    "# print([y_train[c])\n",
    "print(labels[y_train[c][0]])\n",
    "plt.imshow(x_train[c])"
   ]
  },
  {
   "cell_type": "code",
   "execution_count": 5,
   "metadata": {},
   "outputs": [],
   "source": [
    "# 經驗科學:要多少filter(捲積)---抄取別人架構\n"
   ]
  },
  {
   "cell_type": "code",
   "execution_count": 6,
   "metadata": {},
   "outputs": [
    {
     "data": {
      "text/plain": [
       "array([0., 0., 0., 0., 0., 0., 1., 0., 0., 0.], dtype=float32)"
      ]
     },
     "execution_count": 6,
     "metadata": {},
     "output_type": "execute_result"
    }
   ],
   "source": [
    "# 進卷積\n",
    "x_train_shape = x_train / 255\n",
    "x_test_shape = x_test / 255\n",
    "# y進去的時候要one-hot encoding 3 -> [0, 0, 0, 1, 0, 0, 0, 0, 0, 0]\n",
    "from keras.utils.np_utils import to_categorical\n",
    "y_train_cat = to_categorical(y_train)\n",
    "y_test_cat = to_categorical(y_test)\n",
    "y_train_cat[0]"
   ]
  },
  {
   "cell_type": "code",
   "execution_count": 13,
   "metadata": {},
   "outputs": [
    {
     "name": "stdout",
     "output_type": "stream",
     "text": [
      "_________________________________________________________________\n",
      "Layer (type)                 Output Shape              Param #   \n",
      "=================================================================\n",
      "conv2d_4 (Conv2D)            (None, 32, 32, 32)        896       \n",
      "_________________________________________________________________\n",
      "max_pooling2d_1 (MaxPooling2 (None, 16, 16, 32)        0         \n",
      "_________________________________________________________________\n",
      "conv2d_5 (Conv2D)            (None, 16, 16, 64)        18496     \n",
      "_________________________________________________________________\n",
      "max_pooling2d_2 (MaxPooling2 (None, 8, 8, 64)          0         \n",
      "_________________________________________________________________\n",
      "conv2d_6 (Conv2D)            (None, 8, 8, 128)         73856     \n",
      "_________________________________________________________________\n",
      "max_pooling2d_3 (MaxPooling2 (None, 4, 4, 128)         0         \n",
      "_________________________________________________________________\n",
      "flatten_1 (Flatten)          (None, 2048)              0         \n",
      "_________________________________________________________________\n",
      "dense_1 (Dense)              (None, 256)               524544    \n",
      "_________________________________________________________________\n",
      "dense_2 (Dense)              (None, 10)                2570      \n",
      "=================================================================\n",
      "Total params: 620,362\n",
      "Trainable params: 620,362\n",
      "Non-trainable params: 0\n",
      "_________________________________________________________________\n"
     ]
    }
   ],
   "source": [
    "from keras.models import Sequential\n",
    "# Conv2D = 捲積 ,  MaxPool2D = 池化\n",
    "from keras.layers import Conv2D, MaxPooling2D, Dense\n",
    "# reshape = Flatten 平坦層\n",
    "from keras.layers import Flatten\n",
    "# cnn 為模型\n",
    "cnn = Sequential()\n",
    "# filter=多少濾器(32) , kernael_size=捲積盒=(3,3),padding = 改布\n",
    "\n",
    "# 格子 * W * filter = 864 (每個filter配上一個bias因為有ativation所以多32個)\n",
    "# 9 * 3(RGB) * 32(filters) + 32(bias) \n",
    "cnn.add(Conv2D(32, (3,3),\n",
    "               activation = \"relu\",\n",
    "               padding=\"same\",\n",
    "               input_shape =(32,32,3)))\n",
    "cnn.add(MaxPooling2D(pool_size=(2,2)))\n",
    "# 9 * 32(上一層特徵數目) * 64 + 64 = 18496 \n",
    "cnn.add(Conv2D(64, (3,3),\n",
    "               activation = \"relu\",\n",
    "               padding=\"same\"))\n",
    "cnn.add(MaxPooling2D(pool_size=(2,2)))\n",
    "# 9 * 32(上一層特徵數目) * 64 + 64 = 18496 \n",
    "               \n",
    "cnn.add(Conv2D(128, (3,3),\n",
    "               activation = \"relu\",\n",
    "               padding=\"same\"))    \n",
    "cnn.add(MaxPooling2D(pool_size=(2,2)))\n",
    "               \n",
    "# MlP(大腦)\n",
    "cnn.add(Flatten())\n",
    "cnn.add(Dense(256, activation=\"relu\"))\n",
    "cnn.add(Dense(10, activation=\"softmax\"))\n",
    "cnn.summary()\n"
   ]
  },
  {
   "cell_type": "code",
   "execution_count": 16,
   "metadata": {},
   "outputs": [],
   "source": [
    "cnn.compile(loss=\"categorical_crossentropy\", optimizer=\"adam\", metrics=[\"accuracy\"])"
   ]
  },
  {
   "cell_type": "code",
   "execution_count": 19,
   "metadata": {},
   "outputs": [
    {
     "name": "stdout",
     "output_type": "stream",
     "text": [
      "Train on 45000 samples, validate on 5000 samples\n",
      "Epoch 1/10\n",
      "45000/45000 [==============================] - 63s 1ms/step - loss: 1.5011 - acc: 0.4594 - val_loss: 1.3166 - val_acc: 0.5300\n",
      "Epoch 2/10\n",
      "45000/45000 [==============================] - 63s 1ms/step - loss: 1.1834 - acc: 0.5787 - val_loss: 1.0957 - val_acc: 0.6192\n",
      "Epoch 3/10\n",
      "45000/45000 [==============================] - 62s 1ms/step - loss: 1.0088 - acc: 0.6480 - val_loss: 0.9622 - val_acc: 0.6658\n",
      "Epoch 4/10\n",
      "45000/45000 [==============================] - 63s 1ms/step - loss: 0.8971 - acc: 0.6886 - val_loss: 0.9161 - val_acc: 0.6810\n",
      "Epoch 5/10\n",
      "45000/45000 [==============================] - 64s 1ms/step - loss: 0.8070 - acc: 0.7199 - val_loss: 0.8711 - val_acc: 0.6994\n",
      "Epoch 6/10\n",
      "45000/45000 [==============================] - 65s 1ms/step - loss: 0.7392 - acc: 0.7433 - val_loss: 0.8084 - val_acc: 0.7198\n",
      "Epoch 7/10\n",
      "45000/45000 [==============================] - 65s 1ms/step - loss: 0.6726 - acc: 0.7682 - val_loss: 0.8306 - val_acc: 0.7218\n",
      "Epoch 8/10\n",
      "45000/45000 [==============================] - 66s 1ms/step - loss: 0.6219 - acc: 0.7854 - val_loss: 0.7956 - val_acc: 0.7354\n",
      "Epoch 9/10\n",
      "45000/45000 [==============================] - 66s 1ms/step - loss: 0.5607 - acc: 0.8053 - val_loss: 0.7912 - val_acc: 0.7350\n",
      "Epoch 10/10\n",
      "45000/45000 [==============================] - 66s 1ms/step - loss: 0.5124 - acc: 0.8207 - val_loss: 0.7711 - val_acc: 0.7496\n"
     ]
    },
    {
     "data": {
      "text/plain": [
       "<keras.callbacks.History at 0x186445ec2b0>"
      ]
     },
     "execution_count": 19,
     "metadata": {},
     "output_type": "execute_result"
    }
   ],
   "source": [
    "# validation_split = \n",
    "cnn.fit(x_train_shape, y_train_cat, batch_size=200, epochs= 10, validation_split= 0.1)"
   ]
  },
  {
   "cell_type": "code",
   "execution_count": 20,
   "metadata": {},
   "outputs": [
    {
     "name": "stdout",
     "output_type": "stream",
     "text": [
      "10000/10000 [==============================] - 6s 562us/step\n"
     ]
    },
    {
     "data": {
      "text/plain": [
       "[0.8005273641586304, 0.7345]"
      ]
     },
     "execution_count": 20,
     "metadata": {},
     "output_type": "execute_result"
    }
   ],
   "source": [
    "cnn.evaluate(x_test_shape, y_test_cat)"
   ]
  },
  {
   "cell_type": "code",
   "execution_count": 21,
   "metadata": {},
   "outputs": [],
   "source": [
    "# hdf5 格式(hdf viewer)\n",
    "# 下載相對版本"
   ]
  },
  {
   "cell_type": "code",
   "execution_count": 24,
   "metadata": {},
   "outputs": [],
   "source": [
    "#如何儲存模型\n",
    "cnn.save(\"simplecnn.h5\")"
   ]
  },
  {
   "cell_type": "code",
   "execution_count": 26,
   "metadata": {},
   "outputs": [
    {
     "name": "stdout",
     "output_type": "stream",
     "text": [
      "10000/10000 [==============================] - 6s 649us/step\n"
     ]
    },
    {
     "data": {
      "text/plain": [
       "[0.8005273641586304, 0.7345]"
      ]
     },
     "execution_count": 26,
     "metadata": {},
     "output_type": "execute_result"
    }
   ],
   "source": [
    "# 要用模型時\n",
    "from keras.models import load_model\n",
    "old = load_model(\"simplecnn.h5\")\n",
    "old.evaluate(x_test_shape, y_test_cat)\n",
    "# 可在上方加上Dropout來防治過擬合\n",
    "# import Dropout , cnn.add(Dropout(0.25))"
   ]
  },
  {
   "cell_type": "code",
   "execution_count": null,
   "metadata": {},
   "outputs": [],
   "source": [
    "# colb 不同"
   ]
  },
  {
   "cell_type": "code",
   "execution_count": 27,
   "metadata": {},
   "outputs": [
    {
     "data": {
      "text/html": [
       "<div>\n",
       "<style scoped>\n",
       "    .dataframe tbody tr th:only-of-type {\n",
       "        vertical-align: middle;\n",
       "    }\n",
       "\n",
       "    .dataframe tbody tr th {\n",
       "        vertical-align: top;\n",
       "    }\n",
       "\n",
       "    .dataframe thead th {\n",
       "        text-align: right;\n",
       "    }\n",
       "</style>\n",
       "<table border=\"1\" class=\"dataframe\">\n",
       "  <thead>\n",
       "    <tr style=\"text-align: right;\">\n",
       "      <th></th>\n",
       "      <th>0</th>\n",
       "      <th>1</th>\n",
       "      <th>2</th>\n",
       "      <th>3</th>\n",
       "      <th>4</th>\n",
       "      <th>5</th>\n",
       "      <th>6</th>\n",
       "      <th>7</th>\n",
       "      <th>8</th>\n",
       "      <th>9</th>\n",
       "    </tr>\n",
       "  </thead>\n",
       "  <tbody>\n",
       "    <tr>\n",
       "      <th>0</th>\n",
       "      <td>780</td>\n",
       "      <td>26</td>\n",
       "      <td>35</td>\n",
       "      <td>13</td>\n",
       "      <td>23</td>\n",
       "      <td>14</td>\n",
       "      <td>10</td>\n",
       "      <td>10</td>\n",
       "      <td>37</td>\n",
       "      <td>52</td>\n",
       "    </tr>\n",
       "    <tr>\n",
       "      <th>1</th>\n",
       "      <td>10</td>\n",
       "      <td>840</td>\n",
       "      <td>3</td>\n",
       "      <td>6</td>\n",
       "      <td>1</td>\n",
       "      <td>3</td>\n",
       "      <td>2</td>\n",
       "      <td>1</td>\n",
       "      <td>16</td>\n",
       "      <td>118</td>\n",
       "    </tr>\n",
       "    <tr>\n",
       "      <th>2</th>\n",
       "      <td>56</td>\n",
       "      <td>3</td>\n",
       "      <td>581</td>\n",
       "      <td>64</td>\n",
       "      <td>110</td>\n",
       "      <td>69</td>\n",
       "      <td>37</td>\n",
       "      <td>46</td>\n",
       "      <td>8</td>\n",
       "      <td>26</td>\n",
       "    </tr>\n",
       "    <tr>\n",
       "      <th>3</th>\n",
       "      <td>21</td>\n",
       "      <td>13</td>\n",
       "      <td>50</td>\n",
       "      <td>485</td>\n",
       "      <td>97</td>\n",
       "      <td>189</td>\n",
       "      <td>49</td>\n",
       "      <td>44</td>\n",
       "      <td>12</td>\n",
       "      <td>40</td>\n",
       "    </tr>\n",
       "    <tr>\n",
       "      <th>4</th>\n",
       "      <td>21</td>\n",
       "      <td>4</td>\n",
       "      <td>43</td>\n",
       "      <td>37</td>\n",
       "      <td>738</td>\n",
       "      <td>35</td>\n",
       "      <td>26</td>\n",
       "      <td>81</td>\n",
       "      <td>8</td>\n",
       "      <td>7</td>\n",
       "    </tr>\n",
       "    <tr>\n",
       "      <th>5</th>\n",
       "      <td>9</td>\n",
       "      <td>4</td>\n",
       "      <td>47</td>\n",
       "      <td>106</td>\n",
       "      <td>59</td>\n",
       "      <td>680</td>\n",
       "      <td>10</td>\n",
       "      <td>52</td>\n",
       "      <td>10</td>\n",
       "      <td>23</td>\n",
       "    </tr>\n",
       "    <tr>\n",
       "      <th>6</th>\n",
       "      <td>2</td>\n",
       "      <td>9</td>\n",
       "      <td>38</td>\n",
       "      <td>62</td>\n",
       "      <td>54</td>\n",
       "      <td>33</td>\n",
       "      <td>766</td>\n",
       "      <td>8</td>\n",
       "      <td>8</td>\n",
       "      <td>20</td>\n",
       "    </tr>\n",
       "    <tr>\n",
       "      <th>7</th>\n",
       "      <td>12</td>\n",
       "      <td>5</td>\n",
       "      <td>16</td>\n",
       "      <td>22</td>\n",
       "      <td>57</td>\n",
       "      <td>59</td>\n",
       "      <td>7</td>\n",
       "      <td>792</td>\n",
       "      <td>2</td>\n",
       "      <td>28</td>\n",
       "    </tr>\n",
       "    <tr>\n",
       "      <th>8</th>\n",
       "      <td>60</td>\n",
       "      <td>35</td>\n",
       "      <td>11</td>\n",
       "      <td>7</td>\n",
       "      <td>4</td>\n",
       "      <td>6</td>\n",
       "      <td>2</td>\n",
       "      <td>5</td>\n",
       "      <td>819</td>\n",
       "      <td>51</td>\n",
       "    </tr>\n",
       "    <tr>\n",
       "      <th>9</th>\n",
       "      <td>27</td>\n",
       "      <td>54</td>\n",
       "      <td>6</td>\n",
       "      <td>8</td>\n",
       "      <td>4</td>\n",
       "      <td>11</td>\n",
       "      <td>3</td>\n",
       "      <td>9</td>\n",
       "      <td>14</td>\n",
       "      <td>864</td>\n",
       "    </tr>\n",
       "  </tbody>\n",
       "</table>\n",
       "</div>"
      ],
      "text/plain": [
       "     0    1    2    3    4    5    6    7    8    9\n",
       "0  780   26   35   13   23   14   10   10   37   52\n",
       "1   10  840    3    6    1    3    2    1   16  118\n",
       "2   56    3  581   64  110   69   37   46    8   26\n",
       "3   21   13   50  485   97  189   49   44   12   40\n",
       "4   21    4   43   37  738   35   26   81    8    7\n",
       "5    9    4   47  106   59  680   10   52   10   23\n",
       "6    2    9   38   62   54   33  766    8    8   20\n",
       "7   12    5   16   22   57   59    7  792    2   28\n",
       "8   60   35   11    7    4    6    2    5  819   51\n",
       "9   27   54    6    8    4   11    3    9   14  864"
      ]
     },
     "execution_count": 27,
     "metadata": {},
     "output_type": "execute_result"
    }
   ],
   "source": [
    "from sklearn.metrics import confusion_matrix\n",
    "import pandas as pd\n",
    "pd.DataFrame(confusion_matrix(y_test, cnn.predict_classes(x_test_shape)))"
   ]
  },
  {
   "cell_type": "code",
   "execution_count": 28,
   "metadata": {},
   "outputs": [
    {
     "data": {
      "text/plain": [
       "['飛機', '汽車', '鳥', '貓', '鹿', '狗', '青蛙', '馬', '船', '卡車']"
      ]
     },
     "execution_count": 28,
     "metadata": {},
     "output_type": "execute_result"
    }
   ],
   "source": [
    "labels"
   ]
  },
  {
   "cell_type": "code",
   "execution_count": null,
   "metadata": {},
   "outputs": [],
   "source": []
  },
  {
   "cell_type": "code",
   "execution_count": null,
   "metadata": {},
   "outputs": [],
   "source": []
  }
 ],
 "metadata": {
  "kernelspec": {
   "display_name": "Python 3",
   "language": "python",
   "name": "python3"
  },
  "language_info": {
   "codemirror_mode": {
    "name": "ipython",
    "version": 3
   },
   "file_extension": ".py",
   "mimetype": "text/x-python",
   "name": "python",
   "nbconvert_exporter": "python",
   "pygments_lexer": "ipython3",
   "version": "3.6.0"
  }
 },
 "nbformat": 4,
 "nbformat_minor": 1
}
